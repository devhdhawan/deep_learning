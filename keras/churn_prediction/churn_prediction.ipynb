{
 "cells": [
  {
   "cell_type": "markdown",
   "id": "3091e416",
   "metadata": {},
   "source": [
    "# Churn Prediction"
   ]
  },
  {
   "cell_type": "code",
   "execution_count": 1,
   "id": "f50fd90b",
   "metadata": {},
   "outputs": [],
   "source": [
    "import pandas as pd"
   ]
  },
  {
   "cell_type": "markdown",
   "id": "a0a175d2",
   "metadata": {},
   "source": [
    "### Load Datasets"
   ]
  },
  {
   "cell_type": "code",
   "execution_count": 2,
   "id": "3411fae0",
   "metadata": {},
   "outputs": [],
   "source": [
    "data=pd.read_csv(\"churn_prediction.csv\")"
   ]
  },
  {
   "cell_type": "markdown",
   "id": "85649cb1",
   "metadata": {},
   "source": [
    "### Explorative Data Analysis"
   ]
  },
  {
   "cell_type": "markdown",
   "id": "c7de9f90",
   "metadata": {},
   "source": [
    "#### Make function gives all detail related to column"
   ]
  },
  {
   "cell_type": "code",
   "execution_count": 7,
   "id": "5eab7e38",
   "metadata": {},
   "outputs": [],
   "source": [
    "def col_info(data):\n",
    "    for columns in data:\n",
    "        print(f'{columns} {data[columns].unique()} {data[columns].dtypes}')"
   ]
  },
  {
   "cell_type": "code",
   "execution_count": 8,
   "id": "813f9a6f",
   "metadata": {},
   "outputs": [
    {
     "name": "stdout",
     "output_type": "stream",
     "text": [
      "customerID ['7590-VHVEG' '5575-GNVDE' '3668-QPYBK' ... '4801-JZAZL' '8361-LTMKD'\n",
      " '3186-AJIEK'] object\n",
      "gender ['Female' 'Male'] object\n",
      "SeniorCitizen [0 1] int64\n",
      "Partner ['Yes' 'No'] object\n",
      "Dependents ['No' 'Yes'] object\n",
      "tenure [ 1 34  2 45  8 22 10 28 62 13 16 58 49 25 69 52 71 21 12 30 47 72 17 27\n",
      "  5 46 11 70 63 43 15 60 18 66  9  3 31 50 64 56  7 42 35 48 29 65 38 68\n",
      " 32 55 37 36 41  6  4 33 67 23 57 61 14 20 53 40 59 24 44 19 54 51 26  0\n",
      " 39] int64\n",
      "PhoneService ['No' 'Yes'] object\n",
      "MultipleLines ['No phone service' 'No' 'Yes'] object\n",
      "InternetService ['DSL' 'Fiber optic' 'No'] object\n",
      "OnlineSecurity ['No' 'Yes' 'No internet service'] object\n",
      "OnlineBackup ['Yes' 'No' 'No internet service'] object\n",
      "DeviceProtection ['No' 'Yes' 'No internet service'] object\n",
      "TechSupport ['No' 'Yes' 'No internet service'] object\n",
      "StreamingTV ['No' 'Yes' 'No internet service'] object\n",
      "StreamingMovies ['No' 'Yes' 'No internet service'] object\n",
      "Contract ['Month-to-month' 'One year' 'Two year'] object\n",
      "PaperlessBilling ['Yes' 'No'] object\n",
      "PaymentMethod ['Electronic check' 'Mailed check' 'Bank transfer (automatic)'\n",
      " 'Credit card (automatic)'] object\n",
      "MonthlyCharges [29.85 56.95 53.85 ... 63.1  44.2  78.7 ] float64\n",
      "TotalCharges ['29.85' '1889.5' '108.15' ... '346.45' '306.6' '6844.5'] object\n",
      "Churn ['No' 'Yes'] object\n"
     ]
    }
   ],
   "source": [
    "col_info(data)"
   ]
  },
  {
   "cell_type": "markdown",
   "id": "ffd35fab",
   "metadata": {},
   "source": [
    "#### drop customerID column because it does not making sense in prediction"
   ]
  },
  {
   "cell_type": "code",
   "execution_count": 9,
   "id": "e508a3bb",
   "metadata": {},
   "outputs": [],
   "source": [
    "data.drop('customerID',inplace=True,axis=1)"
   ]
  },
  {
   "cell_type": "code",
   "execution_count": 10,
   "id": "43828e24",
   "metadata": {},
   "outputs": [
    {
     "name": "stdout",
     "output_type": "stream",
     "text": [
      "object\n"
     ]
    },
    {
     "data": {
      "text/plain": [
       "'29.85'"
      ]
     },
     "execution_count": 10,
     "metadata": {},
     "output_type": "execute_result"
    }
   ],
   "source": [
    "print(data['TotalCharges'].dtypes)\n",
    "data['TotalCharges'].iloc[0]"
   ]
  },
  {
   "cell_type": "markdown",
   "id": "a4f52ff5",
   "metadata": {},
   "source": [
    "#### Some blank string in column TotalCharges"
   ]
  },
  {
   "cell_type": "code",
   "execution_count": 11,
   "id": "2be0a8fc",
   "metadata": {},
   "outputs": [
    {
     "ename": "ValueError",
     "evalue": "Unable to parse string \" \" at position 488",
     "output_type": "error",
     "traceback": [
      "\u001b[1;31m---------------------------------------------------------------------------\u001b[0m",
      "\u001b[1;31mValueError\u001b[0m                                Traceback (most recent call last)",
      "File \u001b[1;32m~\\AppData\\Local\\Programs\\Python\\Python311\\Lib\\site-packages\\pandas\\_libs\\lib.pyx:2280\u001b[0m, in \u001b[0;36mpandas._libs.lib.maybe_convert_numeric\u001b[1;34m()\u001b[0m\n",
      "\u001b[1;31mValueError\u001b[0m: Unable to parse string \" \"",
      "\nDuring handling of the above exception, another exception occurred:\n",
      "\u001b[1;31mValueError\u001b[0m                                Traceback (most recent call last)",
      "Cell \u001b[1;32mIn[11], line 1\u001b[0m\n\u001b[1;32m----> 1\u001b[0m \u001b[43mpd\u001b[49m\u001b[38;5;241;43m.\u001b[39;49m\u001b[43mto_numeric\u001b[49m\u001b[43m(\u001b[49m\u001b[43mdata\u001b[49m\u001b[43m[\u001b[49m\u001b[38;5;124;43m'\u001b[39;49m\u001b[38;5;124;43mTotalCharges\u001b[39;49m\u001b[38;5;124;43m'\u001b[39;49m\u001b[43m]\u001b[49m\u001b[43m)\u001b[49m\n",
      "File \u001b[1;32m~\\AppData\\Local\\Programs\\Python\\Python311\\Lib\\site-packages\\pandas\\core\\tools\\numeric.py:217\u001b[0m, in \u001b[0;36mto_numeric\u001b[1;34m(arg, errors, downcast, dtype_backend)\u001b[0m\n\u001b[0;32m    215\u001b[0m coerce_numeric \u001b[38;5;241m=\u001b[39m errors \u001b[38;5;129;01mnot\u001b[39;00m \u001b[38;5;129;01min\u001b[39;00m (\u001b[38;5;124m\"\u001b[39m\u001b[38;5;124mignore\u001b[39m\u001b[38;5;124m\"\u001b[39m, \u001b[38;5;124m\"\u001b[39m\u001b[38;5;124mraise\u001b[39m\u001b[38;5;124m\"\u001b[39m)\n\u001b[0;32m    216\u001b[0m \u001b[38;5;28;01mtry\u001b[39;00m:\n\u001b[1;32m--> 217\u001b[0m     values, new_mask \u001b[38;5;241m=\u001b[39m \u001b[43mlib\u001b[49m\u001b[38;5;241;43m.\u001b[39;49m\u001b[43mmaybe_convert_numeric\u001b[49m\u001b[43m(\u001b[49m\u001b[43m  \u001b[49m\u001b[38;5;66;43;03m# type: ignore[call-overload]  # noqa\u001b[39;49;00m\n\u001b[0;32m    218\u001b[0m \u001b[43m        \u001b[49m\u001b[43mvalues\u001b[49m\u001b[43m,\u001b[49m\n\u001b[0;32m    219\u001b[0m \u001b[43m        \u001b[49m\u001b[38;5;28;43mset\u001b[39;49m\u001b[43m(\u001b[49m\u001b[43m)\u001b[49m\u001b[43m,\u001b[49m\n\u001b[0;32m    220\u001b[0m \u001b[43m        \u001b[49m\u001b[43mcoerce_numeric\u001b[49m\u001b[38;5;241;43m=\u001b[39;49m\u001b[43mcoerce_numeric\u001b[49m\u001b[43m,\u001b[49m\n\u001b[0;32m    221\u001b[0m \u001b[43m        \u001b[49m\u001b[43mconvert_to_masked_nullable\u001b[49m\u001b[38;5;241;43m=\u001b[39;49m\u001b[43mdtype_backend\u001b[49m\u001b[43m \u001b[49m\u001b[38;5;129;43;01mis\u001b[39;49;00m\u001b[43m \u001b[49m\u001b[38;5;129;43;01mnot\u001b[39;49;00m\u001b[43m \u001b[49m\u001b[43mlib\u001b[49m\u001b[38;5;241;43m.\u001b[39;49m\u001b[43mno_default\u001b[49m\n\u001b[0;32m    222\u001b[0m \u001b[43m        \u001b[49m\u001b[38;5;129;43;01mor\u001b[39;49;00m\u001b[43m \u001b[49m\u001b[38;5;28;43misinstance\u001b[39;49m\u001b[43m(\u001b[49m\u001b[43mvalues_dtype\u001b[49m\u001b[43m,\u001b[49m\u001b[43m \u001b[49m\u001b[43mStringDtype\u001b[49m\u001b[43m)\u001b[49m\u001b[43m,\u001b[49m\n\u001b[0;32m    223\u001b[0m \u001b[43m    \u001b[49m\u001b[43m)\u001b[49m\n\u001b[0;32m    224\u001b[0m \u001b[38;5;28;01mexcept\u001b[39;00m (\u001b[38;5;167;01mValueError\u001b[39;00m, \u001b[38;5;167;01mTypeError\u001b[39;00m):\n\u001b[0;32m    225\u001b[0m     \u001b[38;5;28;01mif\u001b[39;00m errors \u001b[38;5;241m==\u001b[39m \u001b[38;5;124m\"\u001b[39m\u001b[38;5;124mraise\u001b[39m\u001b[38;5;124m\"\u001b[39m:\n",
      "File \u001b[1;32m~\\AppData\\Local\\Programs\\Python\\Python311\\Lib\\site-packages\\pandas\\_libs\\lib.pyx:2322\u001b[0m, in \u001b[0;36mpandas._libs.lib.maybe_convert_numeric\u001b[1;34m()\u001b[0m\n",
      "\u001b[1;31mValueError\u001b[0m: Unable to parse string \" \" at position 488"
     ]
    }
   ],
   "source": [
    "pd.to_numeric(data['TotalCharges'])"
   ]
  },
  {
   "cell_type": "markdown",
   "id": "8c7cfa69",
   "metadata": {},
   "source": [
    "#### Remove rows from the data which contain blank string"
   ]
  },
  {
   "cell_type": "code",
   "execution_count": 12,
   "id": "f4f00875",
   "metadata": {},
   "outputs": [],
   "source": [
    "new_data=data[data['TotalCharges']!=' ']"
   ]
  },
  {
   "cell_type": "code",
   "execution_count": 13,
   "id": "a3e8fb0e",
   "metadata": {},
   "outputs": [
    {
     "data": {
      "text/plain": [
       "(7032, 20)"
      ]
     },
     "execution_count": 13,
     "metadata": {},
     "output_type": "execute_result"
    }
   ],
   "source": [
    "new_data.shape"
   ]
  },
  {
   "cell_type": "code",
   "execution_count": 14,
   "id": "c642aea5",
   "metadata": {},
   "outputs": [
    {
     "data": {
      "text/plain": [
       "(7043, 20)"
      ]
     },
     "execution_count": 14,
     "metadata": {},
     "output_type": "execute_result"
    }
   ],
   "source": [
    "data.shape"
   ]
  },
  {
   "cell_type": "markdown",
   "id": "1d3c5850",
   "metadata": {},
   "source": [
    "#### Now change TotalCharges column datatype from str to float"
   ]
  },
  {
   "cell_type": "code",
   "execution_count": 15,
   "id": "8b0f6d00",
   "metadata": {},
   "outputs": [],
   "source": [
    "new_data['TotalCharges']=pd.to_numeric(new_data['TotalCharges'])"
   ]
  },
  {
   "cell_type": "code",
   "execution_count": 16,
   "id": "c1a9c278",
   "metadata": {},
   "outputs": [
    {
     "data": {
      "text/plain": [
       "dtype('float64')"
      ]
     },
     "execution_count": 16,
     "metadata": {},
     "output_type": "execute_result"
    }
   ],
   "source": [
    "new_data['TotalCharges'].dtypes"
   ]
  },
  {
   "cell_type": "markdown",
   "id": "721652f6",
   "metadata": {},
   "source": [
    "#### Some of the columns have no internet service or no phone service, that can be replaced with a simple No"
   ]
  },
  {
   "cell_type": "code",
   "execution_count": 17,
   "id": "89d8978b",
   "metadata": {},
   "outputs": [],
   "source": [
    "def replace_with_no(df,col):\n",
    "    n=len(df)\n",
    "    \n",
    "    for i in range(n):\n",
    "        df[col].iloc[i]=df[col].iloc[i].split(\" \")[0]\n",
    "    return df"
   ]
  },
  {
   "cell_type": "code",
   "execution_count": 18,
   "id": "f5ff0dcf",
   "metadata": {},
   "outputs": [],
   "source": [
    "import warnings\n",
    "warnings.filterwarnings(\"ignore\")"
   ]
  },
  {
   "cell_type": "code",
   "execution_count": 19,
   "id": "b92f802b",
   "metadata": {},
   "outputs": [],
   "source": [
    "col_replace_list=['OnlineSecurity',\"DeviceProtection\",\"TechSupport\",\"StreamingTV\",\"StreamingMovies\",\"MultipleLines\",\"OnlineBackup\"]\n",
    "\n",
    "for col in col_replace_list:\n",
    "    new_data=replace_with_no(new_data,col)"
   ]
  },
  {
   "cell_type": "code",
   "execution_count": 20,
   "id": "b922397e",
   "metadata": {},
   "outputs": [
    {
     "name": "stdout",
     "output_type": "stream",
     "text": [
      "gender ['Female' 'Male'] object\n",
      "SeniorCitizen [0 1] int64\n",
      "Partner ['Yes' 'No'] object\n",
      "Dependents ['No' 'Yes'] object\n",
      "tenure [ 1 34  2 45  8 22 10 28 62 13 16 58 49 25 69 52 71 21 12 30 47 72 17 27\n",
      "  5 46 11 70 63 43 15 60 18 66  9  3 31 50 64 56  7 42 35 48 29 65 38 68\n",
      " 32 55 37 36 41  6  4 33 67 23 57 61 14 20 53 40 59 24 44 19 54 51 26 39] int64\n",
      "PhoneService ['No' 'Yes'] object\n",
      "MultipleLines ['No' 'Yes'] object\n",
      "InternetService ['DSL' 'Fiber optic' 'No'] object\n",
      "OnlineSecurity ['No' 'Yes'] object\n",
      "OnlineBackup ['Yes' 'No'] object\n",
      "DeviceProtection ['No' 'Yes'] object\n",
      "TechSupport ['No' 'Yes'] object\n",
      "StreamingTV ['No' 'Yes'] object\n",
      "StreamingMovies ['No' 'Yes'] object\n",
      "Contract ['Month-to-month' 'One year' 'Two year'] object\n",
      "PaperlessBilling ['Yes' 'No'] object\n",
      "PaymentMethod ['Electronic check' 'Mailed check' 'Bank transfer (automatic)'\n",
      " 'Credit card (automatic)'] object\n",
      "MonthlyCharges [29.85 56.95 53.85 ... 63.1  44.2  78.7 ] float64\n",
      "TotalCharges [  29.85 1889.5   108.15 ...  346.45  306.6  6844.5 ] float64\n",
      "Churn ['No' 'Yes'] object\n"
     ]
    }
   ],
   "source": [
    "col_info(new_data)"
   ]
  },
  {
   "cell_type": "markdown",
   "id": "5e2c39ca",
   "metadata": {},
   "source": [
    "#### One hot encoding for categorical columns"
   ]
  },
  {
   "cell_type": "code",
   "execution_count": 21,
   "id": "bddc8b95",
   "metadata": {},
   "outputs": [
    {
     "data": {
      "text/plain": [
       "Index(['gender', 'SeniorCitizen', 'Partner', 'Dependents', 'tenure',\n",
       "       'PhoneService', 'MultipleLines', 'OnlineSecurity', 'OnlineBackup',\n",
       "       'DeviceProtection', 'TechSupport', 'StreamingTV', 'StreamingMovies',\n",
       "       'PaperlessBilling', 'MonthlyCharges', 'TotalCharges', 'Churn',\n",
       "       'InternetService_DSL', 'InternetService_Fiber optic',\n",
       "       'InternetService_No', 'Contract_Month-to-month', 'Contract_One year',\n",
       "       'Contract_Two year', 'PaymentMethod_Bank transfer (automatic)',\n",
       "       'PaymentMethod_Credit card (automatic)',\n",
       "       'PaymentMethod_Electronic check', 'PaymentMethod_Mailed check'],\n",
       "      dtype='object')"
      ]
     },
     "execution_count": 21,
     "metadata": {},
     "output_type": "execute_result"
    }
   ],
   "source": [
    "df1=pd.get_dummies(new_data,columns=['InternetService','Contract','PaymentMethod'])\n",
    "df1.columns"
   ]
  },
  {
   "cell_type": "code",
   "execution_count": 22,
   "id": "c939ee87",
   "metadata": {},
   "outputs": [
    {
     "name": "stdout",
     "output_type": "stream",
     "text": [
      "gender ['Female' 'Male'] object\n",
      "SeniorCitizen [0 1] int64\n",
      "Partner ['Yes' 'No'] object\n",
      "Dependents ['No' 'Yes'] object\n",
      "tenure [ 1 34  2 45  8 22 10 28 62 13 16 58 49 25 69 52 71 21 12 30 47 72 17 27\n",
      "  5 46 11 70 63 43 15 60 18 66  9  3 31 50 64 56  7 42 35 48 29 65 38 68\n",
      " 32 55 37 36 41  6  4 33 67 23 57 61 14 20 53 40 59 24 44 19 54 51 26 39] int64\n",
      "PhoneService ['No' 'Yes'] object\n",
      "MultipleLines ['No' 'Yes'] object\n",
      "OnlineSecurity ['No' 'Yes'] object\n",
      "OnlineBackup ['Yes' 'No'] object\n",
      "DeviceProtection ['No' 'Yes'] object\n",
      "TechSupport ['No' 'Yes'] object\n",
      "StreamingTV ['No' 'Yes'] object\n",
      "StreamingMovies ['No' 'Yes'] object\n",
      "PaperlessBilling ['Yes' 'No'] object\n",
      "MonthlyCharges [29.85 56.95 53.85 ... 63.1  44.2  78.7 ] float64\n",
      "TotalCharges [  29.85 1889.5   108.15 ...  346.45  306.6  6844.5 ] float64\n",
      "Churn ['No' 'Yes'] object\n",
      "InternetService_DSL [ True False] bool\n",
      "InternetService_Fiber optic [False  True] bool\n",
      "InternetService_No [False  True] bool\n",
      "Contract_Month-to-month [ True False] bool\n",
      "Contract_One year [False  True] bool\n",
      "Contract_Two year [False  True] bool\n",
      "PaymentMethod_Bank transfer (automatic) [False  True] bool\n",
      "PaymentMethod_Credit card (automatic) [False  True] bool\n",
      "PaymentMethod_Electronic check [ True False] bool\n",
      "PaymentMethod_Mailed check [False  True] bool\n"
     ]
    }
   ],
   "source": [
    "col_info(df1)"
   ]
  },
  {
   "cell_type": "code",
   "execution_count": 23,
   "id": "2684cc7f",
   "metadata": {},
   "outputs": [],
   "source": [
    "yes_no_col=['Partner','Dependents','PhoneService','PhoneService','MultipleLines','OnlineSecurity','OnlineBackup','DeviceProtection',\n",
    "'TechSupport','StreamingTV','StreamingMovies','PaperlessBilling','Churn']\n",
    "\n",
    "for col in yes_no_col:\n",
    "    df1[col]=df1[col].replace({'No':0,'Yes':1})"
   ]
  },
  {
   "cell_type": "code",
   "execution_count": 24,
   "id": "4a12c676",
   "metadata": {},
   "outputs": [],
   "source": [
    "true_false_col=[]\n",
    "\n",
    "for col in df1.columns:\n",
    "    if df1[col].dtypes==bool:\n",
    "        true_false_col.append(col)\n",
    "for col in true_false_col:\n",
    "    df1[col]=df1[col].replace({False:0,True:1})"
   ]
  },
  {
   "cell_type": "code",
   "execution_count": 25,
   "id": "e6a436cc",
   "metadata": {},
   "outputs": [
    {
     "name": "stdout",
     "output_type": "stream",
     "text": [
      "gender ['Female' 'Male'] object\n",
      "SeniorCitizen [0 1] int64\n",
      "Partner [1 0] int64\n",
      "Dependents [0 1] int64\n",
      "tenure [ 1 34  2 45  8 22 10 28 62 13 16 58 49 25 69 52 71 21 12 30 47 72 17 27\n",
      "  5 46 11 70 63 43 15 60 18 66  9  3 31 50 64 56  7 42 35 48 29 65 38 68\n",
      " 32 55 37 36 41  6  4 33 67 23 57 61 14 20 53 40 59 24 44 19 54 51 26 39] int64\n",
      "PhoneService [0 1] int64\n",
      "MultipleLines [0 1] int64\n",
      "OnlineSecurity [0 1] int64\n",
      "OnlineBackup [1 0] int64\n",
      "DeviceProtection [0 1] int64\n",
      "TechSupport [0 1] int64\n",
      "StreamingTV [0 1] int64\n",
      "StreamingMovies [0 1] int64\n",
      "PaperlessBilling [1 0] int64\n",
      "MonthlyCharges [29.85 56.95 53.85 ... 63.1  44.2  78.7 ] float64\n",
      "TotalCharges [  29.85 1889.5   108.15 ...  346.45  306.6  6844.5 ] float64\n",
      "Churn [0 1] int64\n",
      "InternetService_DSL [1 0] int64\n",
      "InternetService_Fiber optic [0 1] int64\n",
      "InternetService_No [0 1] int64\n",
      "Contract_Month-to-month [1 0] int64\n",
      "Contract_One year [0 1] int64\n",
      "Contract_Two year [0 1] int64\n",
      "PaymentMethod_Bank transfer (automatic) [0 1] int64\n",
      "PaymentMethod_Credit card (automatic) [0 1] int64\n",
      "PaymentMethod_Electronic check [1 0] int64\n",
      "PaymentMethod_Mailed check [0 1] int64\n"
     ]
    }
   ],
   "source": [
    "col_info(df1)"
   ]
  },
  {
   "cell_type": "code",
   "execution_count": 26,
   "id": "60d321e5",
   "metadata": {},
   "outputs": [],
   "source": [
    "df1['gender']=df1['gender'].replace({'Female':0,'Male':1})"
   ]
  },
  {
   "cell_type": "code",
   "execution_count": 27,
   "id": "634d6e5d",
   "metadata": {},
   "outputs": [
    {
     "data": {
      "text/html": [
       "<div>\n",
       "<style scoped>\n",
       "    .dataframe tbody tr th:only-of-type {\n",
       "        vertical-align: middle;\n",
       "    }\n",
       "\n",
       "    .dataframe tbody tr th {\n",
       "        vertical-align: top;\n",
       "    }\n",
       "\n",
       "    .dataframe thead th {\n",
       "        text-align: right;\n",
       "    }\n",
       "</style>\n",
       "<table border=\"1\" class=\"dataframe\">\n",
       "  <thead>\n",
       "    <tr style=\"text-align: right;\">\n",
       "      <th></th>\n",
       "      <th>gender</th>\n",
       "      <th>SeniorCitizen</th>\n",
       "      <th>Partner</th>\n",
       "      <th>Dependents</th>\n",
       "      <th>tenure</th>\n",
       "      <th>PhoneService</th>\n",
       "      <th>MultipleLines</th>\n",
       "      <th>OnlineSecurity</th>\n",
       "      <th>OnlineBackup</th>\n",
       "      <th>DeviceProtection</th>\n",
       "      <th>...</th>\n",
       "      <th>InternetService_DSL</th>\n",
       "      <th>InternetService_Fiber optic</th>\n",
       "      <th>InternetService_No</th>\n",
       "      <th>Contract_Month-to-month</th>\n",
       "      <th>Contract_One year</th>\n",
       "      <th>Contract_Two year</th>\n",
       "      <th>PaymentMethod_Bank transfer (automatic)</th>\n",
       "      <th>PaymentMethod_Credit card (automatic)</th>\n",
       "      <th>PaymentMethod_Electronic check</th>\n",
       "      <th>PaymentMethod_Mailed check</th>\n",
       "    </tr>\n",
       "  </thead>\n",
       "  <tbody>\n",
       "    <tr>\n",
       "      <th>0</th>\n",
       "      <td>0</td>\n",
       "      <td>0</td>\n",
       "      <td>1</td>\n",
       "      <td>0</td>\n",
       "      <td>1</td>\n",
       "      <td>0</td>\n",
       "      <td>0</td>\n",
       "      <td>0</td>\n",
       "      <td>1</td>\n",
       "      <td>0</td>\n",
       "      <td>...</td>\n",
       "      <td>1</td>\n",
       "      <td>0</td>\n",
       "      <td>0</td>\n",
       "      <td>1</td>\n",
       "      <td>0</td>\n",
       "      <td>0</td>\n",
       "      <td>0</td>\n",
       "      <td>0</td>\n",
       "      <td>1</td>\n",
       "      <td>0</td>\n",
       "    </tr>\n",
       "    <tr>\n",
       "      <th>1</th>\n",
       "      <td>1</td>\n",
       "      <td>0</td>\n",
       "      <td>0</td>\n",
       "      <td>0</td>\n",
       "      <td>34</td>\n",
       "      <td>1</td>\n",
       "      <td>0</td>\n",
       "      <td>1</td>\n",
       "      <td>0</td>\n",
       "      <td>1</td>\n",
       "      <td>...</td>\n",
       "      <td>1</td>\n",
       "      <td>0</td>\n",
       "      <td>0</td>\n",
       "      <td>0</td>\n",
       "      <td>1</td>\n",
       "      <td>0</td>\n",
       "      <td>0</td>\n",
       "      <td>0</td>\n",
       "      <td>0</td>\n",
       "      <td>1</td>\n",
       "    </tr>\n",
       "    <tr>\n",
       "      <th>2</th>\n",
       "      <td>1</td>\n",
       "      <td>0</td>\n",
       "      <td>0</td>\n",
       "      <td>0</td>\n",
       "      <td>2</td>\n",
       "      <td>1</td>\n",
       "      <td>0</td>\n",
       "      <td>1</td>\n",
       "      <td>1</td>\n",
       "      <td>0</td>\n",
       "      <td>...</td>\n",
       "      <td>1</td>\n",
       "      <td>0</td>\n",
       "      <td>0</td>\n",
       "      <td>1</td>\n",
       "      <td>0</td>\n",
       "      <td>0</td>\n",
       "      <td>0</td>\n",
       "      <td>0</td>\n",
       "      <td>0</td>\n",
       "      <td>1</td>\n",
       "    </tr>\n",
       "    <tr>\n",
       "      <th>3</th>\n",
       "      <td>1</td>\n",
       "      <td>0</td>\n",
       "      <td>0</td>\n",
       "      <td>0</td>\n",
       "      <td>45</td>\n",
       "      <td>0</td>\n",
       "      <td>0</td>\n",
       "      <td>1</td>\n",
       "      <td>0</td>\n",
       "      <td>1</td>\n",
       "      <td>...</td>\n",
       "      <td>1</td>\n",
       "      <td>0</td>\n",
       "      <td>0</td>\n",
       "      <td>0</td>\n",
       "      <td>1</td>\n",
       "      <td>0</td>\n",
       "      <td>1</td>\n",
       "      <td>0</td>\n",
       "      <td>0</td>\n",
       "      <td>0</td>\n",
       "    </tr>\n",
       "    <tr>\n",
       "      <th>4</th>\n",
       "      <td>0</td>\n",
       "      <td>0</td>\n",
       "      <td>0</td>\n",
       "      <td>0</td>\n",
       "      <td>2</td>\n",
       "      <td>1</td>\n",
       "      <td>0</td>\n",
       "      <td>0</td>\n",
       "      <td>0</td>\n",
       "      <td>0</td>\n",
       "      <td>...</td>\n",
       "      <td>0</td>\n",
       "      <td>1</td>\n",
       "      <td>0</td>\n",
       "      <td>1</td>\n",
       "      <td>0</td>\n",
       "      <td>0</td>\n",
       "      <td>0</td>\n",
       "      <td>0</td>\n",
       "      <td>1</td>\n",
       "      <td>0</td>\n",
       "    </tr>\n",
       "  </tbody>\n",
       "</table>\n",
       "<p>5 rows × 27 columns</p>\n",
       "</div>"
      ],
      "text/plain": [
       "   gender  SeniorCitizen  Partner  Dependents  tenure  PhoneService   \n",
       "0       0              0        1           0       1             0  \\\n",
       "1       1              0        0           0      34             1   \n",
       "2       1              0        0           0       2             1   \n",
       "3       1              0        0           0      45             0   \n",
       "4       0              0        0           0       2             1   \n",
       "\n",
       "   MultipleLines  OnlineSecurity  OnlineBackup  DeviceProtection  ...   \n",
       "0              0               0             1                 0  ...  \\\n",
       "1              0               1             0                 1  ...   \n",
       "2              0               1             1                 0  ...   \n",
       "3              0               1             0                 1  ...   \n",
       "4              0               0             0                 0  ...   \n",
       "\n",
       "   InternetService_DSL  InternetService_Fiber optic  InternetService_No   \n",
       "0                    1                            0                   0  \\\n",
       "1                    1                            0                   0   \n",
       "2                    1                            0                   0   \n",
       "3                    1                            0                   0   \n",
       "4                    0                            1                   0   \n",
       "\n",
       "   Contract_Month-to-month  Contract_One year  Contract_Two year   \n",
       "0                        1                  0                  0  \\\n",
       "1                        0                  1                  0   \n",
       "2                        1                  0                  0   \n",
       "3                        0                  1                  0   \n",
       "4                        1                  0                  0   \n",
       "\n",
       "   PaymentMethod_Bank transfer (automatic)   \n",
       "0                                        0  \\\n",
       "1                                        0   \n",
       "2                                        0   \n",
       "3                                        1   \n",
       "4                                        0   \n",
       "\n",
       "   PaymentMethod_Credit card (automatic)  PaymentMethod_Electronic check   \n",
       "0                                      0                               1  \\\n",
       "1                                      0                               0   \n",
       "2                                      0                               0   \n",
       "3                                      0                               0   \n",
       "4                                      0                               1   \n",
       "\n",
       "   PaymentMethod_Mailed check  \n",
       "0                           0  \n",
       "1                           1  \n",
       "2                           1  \n",
       "3                           0  \n",
       "4                           0  \n",
       "\n",
       "[5 rows x 27 columns]"
      ]
     },
     "execution_count": 27,
     "metadata": {},
     "output_type": "execute_result"
    }
   ],
   "source": [
    "df1.head()"
   ]
  },
  {
   "cell_type": "markdown",
   "id": "b152aa7b",
   "metadata": {},
   "source": [
    "#### Preprocessing"
   ]
  },
  {
   "cell_type": "code",
   "execution_count": 28,
   "id": "f2bad36c",
   "metadata": {},
   "outputs": [],
   "source": [
    "col_to_scale=['tenure','MonthlyCharges','TotalCharges']\n",
    "\n",
    "from sklearn.preprocessing import MinMaxScaler\n",
    "\n",
    "scaler=MinMaxScaler()\n",
    "df1[col_to_scale]=scaler.fit_transform(df1[col_to_scale])"
   ]
  },
  {
   "cell_type": "code",
   "execution_count": 29,
   "id": "0dcd82c3",
   "metadata": {},
   "outputs": [],
   "source": [
    "X=df1.drop('Churn',axis=1)\n",
    "y=df1['Churn']"
   ]
  },
  {
   "cell_type": "markdown",
   "id": "4219c4d2",
   "metadata": {},
   "source": [
    "#### train test split"
   ]
  },
  {
   "cell_type": "code",
   "execution_count": 30,
   "id": "d2c0c158",
   "metadata": {},
   "outputs": [],
   "source": [
    "from sklearn.model_selection import train_test_split\n",
    "\n",
    "X_train,X_test,y_train,y_test=train_test_split(X,y,random_state=42,test_size=0.3)"
   ]
  },
  {
   "cell_type": "code",
   "execution_count": 31,
   "id": "34e4a336",
   "metadata": {},
   "outputs": [
    {
     "data": {
      "text/html": [
       "<div>\n",
       "<style scoped>\n",
       "    .dataframe tbody tr th:only-of-type {\n",
       "        vertical-align: middle;\n",
       "    }\n",
       "\n",
       "    .dataframe tbody tr th {\n",
       "        vertical-align: top;\n",
       "    }\n",
       "\n",
       "    .dataframe thead th {\n",
       "        text-align: right;\n",
       "    }\n",
       "</style>\n",
       "<table border=\"1\" class=\"dataframe\">\n",
       "  <thead>\n",
       "    <tr style=\"text-align: right;\">\n",
       "      <th></th>\n",
       "      <th>gender</th>\n",
       "      <th>SeniorCitizen</th>\n",
       "      <th>Partner</th>\n",
       "      <th>Dependents</th>\n",
       "      <th>tenure</th>\n",
       "      <th>PhoneService</th>\n",
       "      <th>MultipleLines</th>\n",
       "      <th>OnlineSecurity</th>\n",
       "      <th>OnlineBackup</th>\n",
       "      <th>DeviceProtection</th>\n",
       "      <th>...</th>\n",
       "      <th>InternetService_DSL</th>\n",
       "      <th>InternetService_Fiber optic</th>\n",
       "      <th>InternetService_No</th>\n",
       "      <th>Contract_Month-to-month</th>\n",
       "      <th>Contract_One year</th>\n",
       "      <th>Contract_Two year</th>\n",
       "      <th>PaymentMethod_Bank transfer (automatic)</th>\n",
       "      <th>PaymentMethod_Credit card (automatic)</th>\n",
       "      <th>PaymentMethod_Electronic check</th>\n",
       "      <th>PaymentMethod_Mailed check</th>\n",
       "    </tr>\n",
       "  </thead>\n",
       "  <tbody>\n",
       "    <tr>\n",
       "      <th>3946</th>\n",
       "      <td>0</td>\n",
       "      <td>0</td>\n",
       "      <td>0</td>\n",
       "      <td>0</td>\n",
       "      <td>0.112676</td>\n",
       "      <td>0</td>\n",
       "      <td>0</td>\n",
       "      <td>1</td>\n",
       "      <td>0</td>\n",
       "      <td>1</td>\n",
       "      <td>...</td>\n",
       "      <td>1</td>\n",
       "      <td>0</td>\n",
       "      <td>0</td>\n",
       "      <td>1</td>\n",
       "      <td>0</td>\n",
       "      <td>0</td>\n",
       "      <td>0</td>\n",
       "      <td>0</td>\n",
       "      <td>0</td>\n",
       "      <td>1</td>\n",
       "    </tr>\n",
       "    <tr>\n",
       "      <th>3394</th>\n",
       "      <td>1</td>\n",
       "      <td>0</td>\n",
       "      <td>0</td>\n",
       "      <td>0</td>\n",
       "      <td>0.352113</td>\n",
       "      <td>1</td>\n",
       "      <td>1</td>\n",
       "      <td>1</td>\n",
       "      <td>1</td>\n",
       "      <td>0</td>\n",
       "      <td>...</td>\n",
       "      <td>1</td>\n",
       "      <td>0</td>\n",
       "      <td>0</td>\n",
       "      <td>0</td>\n",
       "      <td>1</td>\n",
       "      <td>0</td>\n",
       "      <td>0</td>\n",
       "      <td>0</td>\n",
       "      <td>1</td>\n",
       "      <td>0</td>\n",
       "    </tr>\n",
       "    <tr>\n",
       "      <th>1635</th>\n",
       "      <td>0</td>\n",
       "      <td>0</td>\n",
       "      <td>0</td>\n",
       "      <td>0</td>\n",
       "      <td>0.028169</td>\n",
       "      <td>1</td>\n",
       "      <td>0</td>\n",
       "      <td>0</td>\n",
       "      <td>0</td>\n",
       "      <td>1</td>\n",
       "      <td>...</td>\n",
       "      <td>1</td>\n",
       "      <td>0</td>\n",
       "      <td>0</td>\n",
       "      <td>0</td>\n",
       "      <td>1</td>\n",
       "      <td>0</td>\n",
       "      <td>0</td>\n",
       "      <td>0</td>\n",
       "      <td>1</td>\n",
       "      <td>0</td>\n",
       "    </tr>\n",
       "    <tr>\n",
       "      <th>4088</th>\n",
       "      <td>1</td>\n",
       "      <td>0</td>\n",
       "      <td>0</td>\n",
       "      <td>0</td>\n",
       "      <td>0.084507</td>\n",
       "      <td>1</td>\n",
       "      <td>1</td>\n",
       "      <td>0</td>\n",
       "      <td>0</td>\n",
       "      <td>0</td>\n",
       "      <td>...</td>\n",
       "      <td>0</td>\n",
       "      <td>1</td>\n",
       "      <td>0</td>\n",
       "      <td>1</td>\n",
       "      <td>0</td>\n",
       "      <td>0</td>\n",
       "      <td>0</td>\n",
       "      <td>0</td>\n",
       "      <td>1</td>\n",
       "      <td>0</td>\n",
       "    </tr>\n",
       "    <tr>\n",
       "      <th>1886</th>\n",
       "      <td>1</td>\n",
       "      <td>0</td>\n",
       "      <td>1</td>\n",
       "      <td>1</td>\n",
       "      <td>0.929577</td>\n",
       "      <td>1</td>\n",
       "      <td>0</td>\n",
       "      <td>1</td>\n",
       "      <td>0</td>\n",
       "      <td>1</td>\n",
       "      <td>...</td>\n",
       "      <td>1</td>\n",
       "      <td>0</td>\n",
       "      <td>0</td>\n",
       "      <td>0</td>\n",
       "      <td>0</td>\n",
       "      <td>1</td>\n",
       "      <td>1</td>\n",
       "      <td>0</td>\n",
       "      <td>0</td>\n",
       "      <td>0</td>\n",
       "    </tr>\n",
       "    <tr>\n",
       "      <th>...</th>\n",
       "      <td>...</td>\n",
       "      <td>...</td>\n",
       "      <td>...</td>\n",
       "      <td>...</td>\n",
       "      <td>...</td>\n",
       "      <td>...</td>\n",
       "      <td>...</td>\n",
       "      <td>...</td>\n",
       "      <td>...</td>\n",
       "      <td>...</td>\n",
       "      <td>...</td>\n",
       "      <td>...</td>\n",
       "      <td>...</td>\n",
       "      <td>...</td>\n",
       "      <td>...</td>\n",
       "      <td>...</td>\n",
       "      <td>...</td>\n",
       "      <td>...</td>\n",
       "      <td>...</td>\n",
       "      <td>...</td>\n",
       "      <td>...</td>\n",
       "    </tr>\n",
       "    <tr>\n",
       "      <th>3778</th>\n",
       "      <td>1</td>\n",
       "      <td>0</td>\n",
       "      <td>0</td>\n",
       "      <td>0</td>\n",
       "      <td>0.028169</td>\n",
       "      <td>1</td>\n",
       "      <td>1</td>\n",
       "      <td>0</td>\n",
       "      <td>0</td>\n",
       "      <td>0</td>\n",
       "      <td>...</td>\n",
       "      <td>1</td>\n",
       "      <td>0</td>\n",
       "      <td>0</td>\n",
       "      <td>1</td>\n",
       "      <td>0</td>\n",
       "      <td>0</td>\n",
       "      <td>1</td>\n",
       "      <td>0</td>\n",
       "      <td>0</td>\n",
       "      <td>0</td>\n",
       "    </tr>\n",
       "    <tr>\n",
       "      <th>5199</th>\n",
       "      <td>0</td>\n",
       "      <td>0</td>\n",
       "      <td>0</td>\n",
       "      <td>0</td>\n",
       "      <td>0.704225</td>\n",
       "      <td>1</td>\n",
       "      <td>1</td>\n",
       "      <td>0</td>\n",
       "      <td>1</td>\n",
       "      <td>1</td>\n",
       "      <td>...</td>\n",
       "      <td>0</td>\n",
       "      <td>1</td>\n",
       "      <td>0</td>\n",
       "      <td>0</td>\n",
       "      <td>1</td>\n",
       "      <td>0</td>\n",
       "      <td>0</td>\n",
       "      <td>0</td>\n",
       "      <td>1</td>\n",
       "      <td>0</td>\n",
       "    </tr>\n",
       "    <tr>\n",
       "      <th>5235</th>\n",
       "      <td>1</td>\n",
       "      <td>0</td>\n",
       "      <td>0</td>\n",
       "      <td>0</td>\n",
       "      <td>0.112676</td>\n",
       "      <td>1</td>\n",
       "      <td>1</td>\n",
       "      <td>1</td>\n",
       "      <td>0</td>\n",
       "      <td>0</td>\n",
       "      <td>...</td>\n",
       "      <td>0</td>\n",
       "      <td>1</td>\n",
       "      <td>0</td>\n",
       "      <td>1</td>\n",
       "      <td>0</td>\n",
       "      <td>0</td>\n",
       "      <td>0</td>\n",
       "      <td>0</td>\n",
       "      <td>1</td>\n",
       "      <td>0</td>\n",
       "    </tr>\n",
       "    <tr>\n",
       "      <th>5399</th>\n",
       "      <td>0</td>\n",
       "      <td>0</td>\n",
       "      <td>0</td>\n",
       "      <td>0</td>\n",
       "      <td>0.690141</td>\n",
       "      <td>1</td>\n",
       "      <td>0</td>\n",
       "      <td>0</td>\n",
       "      <td>0</td>\n",
       "      <td>0</td>\n",
       "      <td>...</td>\n",
       "      <td>0</td>\n",
       "      <td>0</td>\n",
       "      <td>1</td>\n",
       "      <td>0</td>\n",
       "      <td>1</td>\n",
       "      <td>0</td>\n",
       "      <td>1</td>\n",
       "      <td>0</td>\n",
       "      <td>0</td>\n",
       "      <td>0</td>\n",
       "    </tr>\n",
       "    <tr>\n",
       "      <th>862</th>\n",
       "      <td>1</td>\n",
       "      <td>1</td>\n",
       "      <td>1</td>\n",
       "      <td>0</td>\n",
       "      <td>0.267606</td>\n",
       "      <td>1</td>\n",
       "      <td>0</td>\n",
       "      <td>0</td>\n",
       "      <td>1</td>\n",
       "      <td>0</td>\n",
       "      <td>...</td>\n",
       "      <td>0</td>\n",
       "      <td>1</td>\n",
       "      <td>0</td>\n",
       "      <td>1</td>\n",
       "      <td>0</td>\n",
       "      <td>0</td>\n",
       "      <td>0</td>\n",
       "      <td>0</td>\n",
       "      <td>1</td>\n",
       "      <td>0</td>\n",
       "    </tr>\n",
       "  </tbody>\n",
       "</table>\n",
       "<p>4922 rows × 26 columns</p>\n",
       "</div>"
      ],
      "text/plain": [
       "      gender  SeniorCitizen  Partner  Dependents    tenure  PhoneService   \n",
       "3946       0              0        0           0  0.112676             0  \\\n",
       "3394       1              0        0           0  0.352113             1   \n",
       "1635       0              0        0           0  0.028169             1   \n",
       "4088       1              0        0           0  0.084507             1   \n",
       "1886       1              0        1           1  0.929577             1   \n",
       "...      ...            ...      ...         ...       ...           ...   \n",
       "3778       1              0        0           0  0.028169             1   \n",
       "5199       0              0        0           0  0.704225             1   \n",
       "5235       1              0        0           0  0.112676             1   \n",
       "5399       0              0        0           0  0.690141             1   \n",
       "862        1              1        1           0  0.267606             1   \n",
       "\n",
       "      MultipleLines  OnlineSecurity  OnlineBackup  DeviceProtection  ...   \n",
       "3946              0               1             0                 1  ...  \\\n",
       "3394              1               1             1                 0  ...   \n",
       "1635              0               0             0                 1  ...   \n",
       "4088              1               0             0                 0  ...   \n",
       "1886              0               1             0                 1  ...   \n",
       "...             ...             ...           ...               ...  ...   \n",
       "3778              1               0             0                 0  ...   \n",
       "5199              1               0             1                 1  ...   \n",
       "5235              1               1             0                 0  ...   \n",
       "5399              0               0             0                 0  ...   \n",
       "862               0               0             1                 0  ...   \n",
       "\n",
       "      InternetService_DSL  InternetService_Fiber optic  InternetService_No   \n",
       "3946                    1                            0                   0  \\\n",
       "3394                    1                            0                   0   \n",
       "1635                    1                            0                   0   \n",
       "4088                    0                            1                   0   \n",
       "1886                    1                            0                   0   \n",
       "...                   ...                          ...                 ...   \n",
       "3778                    1                            0                   0   \n",
       "5199                    0                            1                   0   \n",
       "5235                    0                            1                   0   \n",
       "5399                    0                            0                   1   \n",
       "862                     0                            1                   0   \n",
       "\n",
       "      Contract_Month-to-month  Contract_One year  Contract_Two year   \n",
       "3946                        1                  0                  0  \\\n",
       "3394                        0                  1                  0   \n",
       "1635                        0                  1                  0   \n",
       "4088                        1                  0                  0   \n",
       "1886                        0                  0                  1   \n",
       "...                       ...                ...                ...   \n",
       "3778                        1                  0                  0   \n",
       "5199                        0                  1                  0   \n",
       "5235                        1                  0                  0   \n",
       "5399                        0                  1                  0   \n",
       "862                         1                  0                  0   \n",
       "\n",
       "      PaymentMethod_Bank transfer (automatic)   \n",
       "3946                                        0  \\\n",
       "3394                                        0   \n",
       "1635                                        0   \n",
       "4088                                        0   \n",
       "1886                                        1   \n",
       "...                                       ...   \n",
       "3778                                        1   \n",
       "5199                                        0   \n",
       "5235                                        0   \n",
       "5399                                        1   \n",
       "862                                         0   \n",
       "\n",
       "      PaymentMethod_Credit card (automatic)  PaymentMethod_Electronic check   \n",
       "3946                                      0                               0  \\\n",
       "3394                                      0                               1   \n",
       "1635                                      0                               1   \n",
       "4088                                      0                               1   \n",
       "1886                                      0                               0   \n",
       "...                                     ...                             ...   \n",
       "3778                                      0                               0   \n",
       "5199                                      0                               1   \n",
       "5235                                      0                               1   \n",
       "5399                                      0                               0   \n",
       "862                                       0                               1   \n",
       "\n",
       "      PaymentMethod_Mailed check  \n",
       "3946                           1  \n",
       "3394                           0  \n",
       "1635                           0  \n",
       "4088                           0  \n",
       "1886                           0  \n",
       "...                          ...  \n",
       "3778                           0  \n",
       "5199                           0  \n",
       "5235                           0  \n",
       "5399                           0  \n",
       "862                            0  \n",
       "\n",
       "[4922 rows x 26 columns]"
      ]
     },
     "execution_count": 31,
     "metadata": {},
     "output_type": "execute_result"
    }
   ],
   "source": [
    "X_train"
   ]
  },
  {
   "cell_type": "markdown",
   "id": "e5614c2c",
   "metadata": {},
   "source": [
    "#### Build model using ANN"
   ]
  },
  {
   "cell_type": "code",
   "execution_count": 32,
   "id": "cc3a8c61",
   "metadata": {},
   "outputs": [],
   "source": [
    "import tensorflow as tf"
   ]
  },
  {
   "cell_type": "code",
   "execution_count": 33,
   "id": "910d0b37",
   "metadata": {},
   "outputs": [
    {
     "name": "stdout",
     "output_type": "stream",
     "text": [
      "Epoch 1/100\n",
      "154/154 [==============================] - 2s 3ms/step - loss: 0.5015 - accuracy: 0.7527\n",
      "Epoch 2/100\n",
      "154/154 [==============================] - 0s 3ms/step - loss: 0.4257 - accuracy: 0.7954\n",
      "Epoch 3/100\n",
      "154/154 [==============================] - 0s 3ms/step - loss: 0.4197 - accuracy: 0.8017\n",
      "Epoch 4/100\n",
      "154/154 [==============================] - 0s 3ms/step - loss: 0.4164 - accuracy: 0.8070\n",
      "Epoch 5/100\n",
      "154/154 [==============================] - 0s 3ms/step - loss: 0.4155 - accuracy: 0.8003\n",
      "Epoch 6/100\n",
      "154/154 [==============================] - 0s 3ms/step - loss: 0.4126 - accuracy: 0.8058\n",
      "Epoch 7/100\n",
      "154/154 [==============================] - 0s 3ms/step - loss: 0.4113 - accuracy: 0.8058\n",
      "Epoch 8/100\n",
      "154/154 [==============================] - 0s 3ms/step - loss: 0.4102 - accuracy: 0.8048\n",
      "Epoch 9/100\n",
      "154/154 [==============================] - 0s 3ms/step - loss: 0.4088 - accuracy: 0.8084\n",
      "Epoch 10/100\n",
      "154/154 [==============================] - 0s 3ms/step - loss: 0.4081 - accuracy: 0.8070\n",
      "Epoch 11/100\n",
      "154/154 [==============================] - 0s 3ms/step - loss: 0.4059 - accuracy: 0.8072\n",
      "Epoch 12/100\n",
      "154/154 [==============================] - 0s 3ms/step - loss: 0.4039 - accuracy: 0.8074\n",
      "Epoch 13/100\n",
      "154/154 [==============================] - 0s 3ms/step - loss: 0.4042 - accuracy: 0.8074\n",
      "Epoch 14/100\n",
      "154/154 [==============================] - 0s 3ms/step - loss: 0.4020 - accuracy: 0.8117\n",
      "Epoch 15/100\n",
      "154/154 [==============================] - 0s 3ms/step - loss: 0.4026 - accuracy: 0.8098\n",
      "Epoch 16/100\n",
      "154/154 [==============================] - 0s 3ms/step - loss: 0.3999 - accuracy: 0.8108\n",
      "Epoch 17/100\n",
      "154/154 [==============================] - 0s 3ms/step - loss: 0.3988 - accuracy: 0.8127\n",
      "Epoch 18/100\n",
      "154/154 [==============================] - 0s 3ms/step - loss: 0.3987 - accuracy: 0.8139\n",
      "Epoch 19/100\n",
      "154/154 [==============================] - 0s 3ms/step - loss: 0.3975 - accuracy: 0.8123\n",
      "Epoch 20/100\n",
      "154/154 [==============================] - 0s 3ms/step - loss: 0.3969 - accuracy: 0.8161\n",
      "Epoch 21/100\n",
      "154/154 [==============================] - 0s 3ms/step - loss: 0.3963 - accuracy: 0.8117\n",
      "Epoch 22/100\n",
      "154/154 [==============================] - 0s 3ms/step - loss: 0.3942 - accuracy: 0.8153\n",
      "Epoch 23/100\n",
      "154/154 [==============================] - 0s 3ms/step - loss: 0.3939 - accuracy: 0.8149\n",
      "Epoch 24/100\n",
      "154/154 [==============================] - 0s 3ms/step - loss: 0.3928 - accuracy: 0.8169\n",
      "Epoch 25/100\n",
      "154/154 [==============================] - 0s 3ms/step - loss: 0.3909 - accuracy: 0.8171\n",
      "Epoch 26/100\n",
      "154/154 [==============================] - 0s 3ms/step - loss: 0.3910 - accuracy: 0.8165\n",
      "Epoch 27/100\n",
      "154/154 [==============================] - 0s 3ms/step - loss: 0.3892 - accuracy: 0.8153\n",
      "Epoch 28/100\n",
      "154/154 [==============================] - 0s 3ms/step - loss: 0.3883 - accuracy: 0.8190\n",
      "Epoch 29/100\n",
      "154/154 [==============================] - 0s 3ms/step - loss: 0.3873 - accuracy: 0.8174\n",
      "Epoch 30/100\n",
      "154/154 [==============================] - 0s 3ms/step - loss: 0.3856 - accuracy: 0.8180\n",
      "Epoch 31/100\n",
      "154/154 [==============================] - 0s 3ms/step - loss: 0.3849 - accuracy: 0.8202\n",
      "Epoch 32/100\n",
      "154/154 [==============================] - 0s 3ms/step - loss: 0.3835 - accuracy: 0.8210\n",
      "Epoch 33/100\n",
      "154/154 [==============================] - 0s 3ms/step - loss: 0.3838 - accuracy: 0.8176\n",
      "Epoch 34/100\n",
      "154/154 [==============================] - 0s 3ms/step - loss: 0.3820 - accuracy: 0.8232\n",
      "Epoch 35/100\n",
      "154/154 [==============================] - 1s 3ms/step - loss: 0.3813 - accuracy: 0.8198\n",
      "Epoch 36/100\n",
      "154/154 [==============================] - 1s 4ms/step - loss: 0.3808 - accuracy: 0.8212\n",
      "Epoch 37/100\n",
      "154/154 [==============================] - 1s 4ms/step - loss: 0.3796 - accuracy: 0.8214\n",
      "Epoch 38/100\n",
      "154/154 [==============================] - 1s 3ms/step - loss: 0.3784 - accuracy: 0.8222\n",
      "Epoch 39/100\n",
      "154/154 [==============================] - 0s 3ms/step - loss: 0.3771 - accuracy: 0.8182\n",
      "Epoch 40/100\n",
      "154/154 [==============================] - 0s 3ms/step - loss: 0.3775 - accuracy: 0.8241\n",
      "Epoch 41/100\n",
      "154/154 [==============================] - 0s 3ms/step - loss: 0.3772 - accuracy: 0.8216\n",
      "Epoch 42/100\n",
      "154/154 [==============================] - 1s 4ms/step - loss: 0.3759 - accuracy: 0.8245\n",
      "Epoch 43/100\n",
      "154/154 [==============================] - 1s 4ms/step - loss: 0.3746 - accuracy: 0.8236\n",
      "Epoch 44/100\n",
      "154/154 [==============================] - 1s 4ms/step - loss: 0.3745 - accuracy: 0.8214\n",
      "Epoch 45/100\n",
      "154/154 [==============================] - 0s 3ms/step - loss: 0.3740 - accuracy: 0.8243\n",
      "Epoch 46/100\n",
      "154/154 [==============================] - 0s 3ms/step - loss: 0.3724 - accuracy: 0.8249\n",
      "Epoch 47/100\n",
      "154/154 [==============================] - 0s 3ms/step - loss: 0.3717 - accuracy: 0.8243\n",
      "Epoch 48/100\n",
      "154/154 [==============================] - 0s 3ms/step - loss: 0.3720 - accuracy: 0.8255\n",
      "Epoch 49/100\n",
      "154/154 [==============================] - 0s 3ms/step - loss: 0.3699 - accuracy: 0.8271\n",
      "Epoch 50/100\n",
      "154/154 [==============================] - 0s 3ms/step - loss: 0.3697 - accuracy: 0.8295\n",
      "Epoch 51/100\n",
      "154/154 [==============================] - 0s 3ms/step - loss: 0.3702 - accuracy: 0.8269\n",
      "Epoch 52/100\n",
      "154/154 [==============================] - 0s 3ms/step - loss: 0.3675 - accuracy: 0.8291\n",
      "Epoch 53/100\n",
      "154/154 [==============================] - 1s 3ms/step - loss: 0.3680 - accuracy: 0.8265\n",
      "Epoch 54/100\n",
      "154/154 [==============================] - 0s 3ms/step - loss: 0.3668 - accuracy: 0.8287\n",
      "Epoch 55/100\n",
      "154/154 [==============================] - 1s 3ms/step - loss: 0.3665 - accuracy: 0.8273\n",
      "Epoch 56/100\n",
      "154/154 [==============================] - 1s 4ms/step - loss: 0.3662 - accuracy: 0.8283\n",
      "Epoch 57/100\n",
      "154/154 [==============================] - 1s 4ms/step - loss: 0.3649 - accuracy: 0.8297\n",
      "Epoch 58/100\n",
      "154/154 [==============================] - 0s 3ms/step - loss: 0.3658 - accuracy: 0.8249\n",
      "Epoch 59/100\n",
      "154/154 [==============================] - 0s 3ms/step - loss: 0.3641 - accuracy: 0.8289\n",
      "Epoch 60/100\n",
      "154/154 [==============================] - 1s 4ms/step - loss: 0.3643 - accuracy: 0.8289\n",
      "Epoch 61/100\n",
      "154/154 [==============================] - 1s 3ms/step - loss: 0.3628 - accuracy: 0.8295\n",
      "Epoch 62/100\n",
      "154/154 [==============================] - 1s 5ms/step - loss: 0.3624 - accuracy: 0.8297\n",
      "Epoch 63/100\n",
      "154/154 [==============================] - 1s 3ms/step - loss: 0.3612 - accuracy: 0.8326\n",
      "Epoch 64/100\n",
      "154/154 [==============================] - 1s 4ms/step - loss: 0.3610 - accuracy: 0.8291\n",
      "Epoch 65/100\n",
      "154/154 [==============================] - 1s 3ms/step - loss: 0.3602 - accuracy: 0.8324\n",
      "Epoch 66/100\n",
      "154/154 [==============================] - 0s 3ms/step - loss: 0.3587 - accuracy: 0.8312\n",
      "Epoch 67/100\n",
      "154/154 [==============================] - 1s 4ms/step - loss: 0.3587 - accuracy: 0.8314\n",
      "Epoch 68/100\n",
      "154/154 [==============================] - 0s 3ms/step - loss: 0.3603 - accuracy: 0.8297\n",
      "Epoch 69/100\n",
      "154/154 [==============================] - 1s 3ms/step - loss: 0.3582 - accuracy: 0.8320\n",
      "Epoch 70/100\n",
      "154/154 [==============================] - 1s 4ms/step - loss: 0.3576 - accuracy: 0.8308\n",
      "Epoch 71/100\n",
      "154/154 [==============================] - 1s 4ms/step - loss: 0.3565 - accuracy: 0.8302\n",
      "Epoch 72/100\n",
      "154/154 [==============================] - 1s 3ms/step - loss: 0.3560 - accuracy: 0.8318\n",
      "Epoch 73/100\n",
      "154/154 [==============================] - 0s 3ms/step - loss: 0.3565 - accuracy: 0.8304\n",
      "Epoch 74/100\n",
      "154/154 [==============================] - 0s 3ms/step - loss: 0.3562 - accuracy: 0.8306\n",
      "Epoch 75/100\n",
      "154/154 [==============================] - 0s 3ms/step - loss: 0.3548 - accuracy: 0.8312\n",
      "Epoch 76/100\n",
      "154/154 [==============================] - 1s 3ms/step - loss: 0.3566 - accuracy: 0.8334\n",
      "Epoch 77/100\n",
      "154/154 [==============================] - 0s 3ms/step - loss: 0.3548 - accuracy: 0.8332\n",
      "Epoch 78/100\n",
      "154/154 [==============================] - 0s 3ms/step - loss: 0.3534 - accuracy: 0.8310\n",
      "Epoch 79/100\n",
      "154/154 [==============================] - 0s 3ms/step - loss: 0.3523 - accuracy: 0.8344\n",
      "Epoch 80/100\n",
      "154/154 [==============================] - 0s 3ms/step - loss: 0.3512 - accuracy: 0.8338\n",
      "Epoch 81/100\n"
     ]
    },
    {
     "name": "stdout",
     "output_type": "stream",
     "text": [
      "154/154 [==============================] - 0s 3ms/step - loss: 0.3513 - accuracy: 0.8324\n",
      "Epoch 82/100\n",
      "154/154 [==============================] - 0s 3ms/step - loss: 0.3533 - accuracy: 0.8310\n",
      "Epoch 83/100\n",
      "154/154 [==============================] - 0s 3ms/step - loss: 0.3519 - accuracy: 0.8340\n",
      "Epoch 84/100\n",
      "154/154 [==============================] - 0s 3ms/step - loss: 0.3517 - accuracy: 0.8326\n",
      "Epoch 85/100\n",
      "154/154 [==============================] - 0s 3ms/step - loss: 0.3503 - accuracy: 0.8326\n",
      "Epoch 86/100\n",
      "154/154 [==============================] - 0s 3ms/step - loss: 0.3500 - accuracy: 0.8350\n",
      "Epoch 87/100\n",
      "154/154 [==============================] - 0s 3ms/step - loss: 0.3498 - accuracy: 0.8352\n",
      "Epoch 88/100\n",
      "154/154 [==============================] - 0s 3ms/step - loss: 0.3485 - accuracy: 0.8346\n",
      "Epoch 89/100\n",
      "154/154 [==============================] - 0s 3ms/step - loss: 0.3476 - accuracy: 0.8371\n",
      "Epoch 90/100\n",
      "154/154 [==============================] - 0s 3ms/step - loss: 0.3482 - accuracy: 0.8350\n",
      "Epoch 91/100\n",
      "154/154 [==============================] - 0s 3ms/step - loss: 0.3465 - accuracy: 0.8358\n",
      "Epoch 92/100\n",
      "154/154 [==============================] - 0s 3ms/step - loss: 0.3464 - accuracy: 0.8352\n",
      "Epoch 93/100\n",
      "154/154 [==============================] - 0s 3ms/step - loss: 0.3477 - accuracy: 0.8356\n",
      "Epoch 94/100\n",
      "154/154 [==============================] - 0s 3ms/step - loss: 0.3451 - accuracy: 0.8377\n",
      "Epoch 95/100\n",
      "154/154 [==============================] - 0s 3ms/step - loss: 0.3461 - accuracy: 0.8358\n",
      "Epoch 96/100\n",
      "154/154 [==============================] - 1s 3ms/step - loss: 0.3447 - accuracy: 0.8393\n",
      "Epoch 97/100\n",
      "154/154 [==============================] - 1s 5ms/step - loss: 0.3441 - accuracy: 0.8375\n",
      "Epoch 98/100\n",
      "154/154 [==============================] - 1s 4ms/step - loss: 0.3428 - accuracy: 0.8383\n",
      "Epoch 99/100\n",
      "154/154 [==============================] - 1s 3ms/step - loss: 0.3427 - accuracy: 0.8373\n",
      "Epoch 100/100\n",
      "154/154 [==============================] - 0s 3ms/step - loss: 0.3428 - accuracy: 0.8371\n"
     ]
    },
    {
     "data": {
      "text/plain": [
       "<keras.callbacks.History at 0x2881783d310>"
      ]
     },
     "execution_count": 33,
     "metadata": {},
     "output_type": "execute_result"
    }
   ],
   "source": [
    "model=tf.keras.Sequential([\n",
    "    tf.keras.layers.Dense(26,activation='relu',input_shape=(26,)),\n",
    "    tf.keras.layers.Dense(16,activation='relu'),\n",
    "    tf.keras.layers.Dense(1,activation='sigmoid')\n",
    "])\n",
    "\n",
    "model.compile(optimizer='adam', loss='binary_crossentropy', metrics=['accuracy'])\n",
    "\n",
    "\n",
    "model.fit(X_train,y_train,epochs=100)"
   ]
  },
  {
   "cell_type": "code",
   "execution_count": 36,
   "id": "25f02c25",
   "metadata": {},
   "outputs": [
    {
     "name": "stdout",
     "output_type": "stream",
     "text": [
      "66/66 [==============================] - 0s 3ms/step - loss: 0.4849 - accuracy: 0.7796\n"
     ]
    },
    {
     "data": {
      "text/plain": [
       "[0.4849206507205963, 0.7796208262443542]"
      ]
     },
     "execution_count": 36,
     "metadata": {},
     "output_type": "execute_result"
    }
   ],
   "source": [
    "model.evaluate(X_test,y_test)"
   ]
  },
  {
   "cell_type": "code",
   "execution_count": 37,
   "id": "60428f76",
   "metadata": {},
   "outputs": [
    {
     "name": "stdout",
     "output_type": "stream",
     "text": [
      "66/66 [==============================] - 0s 2ms/step\n"
     ]
    }
   ],
   "source": [
    "y_pred=model.predict(X_test)"
   ]
  },
  {
   "cell_type": "code",
   "execution_count": 38,
   "id": "f8456748",
   "metadata": {},
   "outputs": [],
   "source": [
    "prediction=[]\n",
    "for ele in y_pred:\n",
    "    if ele>0.5:\n",
    "        prediction.append(1)\n",
    "    else:\n",
    "        prediction.append(0)"
   ]
  },
  {
   "cell_type": "code",
   "execution_count": 39,
   "id": "427bfc04",
   "metadata": {},
   "outputs": [
    {
     "data": {
      "text/plain": [
       "[0, 0, 1, 0, 0]"
      ]
     },
     "execution_count": 39,
     "metadata": {},
     "output_type": "execute_result"
    }
   ],
   "source": [
    "prediction[:5]"
   ]
  },
  {
   "cell_type": "code",
   "execution_count": 40,
   "id": "79710284",
   "metadata": {},
   "outputs": [
    {
     "data": {
      "text/plain": [
       "2481    0\n",
       "6784    0\n",
       "6125    1\n",
       "3052    0\n",
       "4099    0\n",
       "Name: Churn, dtype: int64"
      ]
     },
     "execution_count": 40,
     "metadata": {},
     "output_type": "execute_result"
    }
   ],
   "source": [
    "y_test[:5]"
   ]
  },
  {
   "cell_type": "markdown",
   "id": "661be61b",
   "metadata": {},
   "source": [
    "#### Classification Report"
   ]
  },
  {
   "cell_type": "code",
   "execution_count": 41,
   "id": "72c2bc1f",
   "metadata": {},
   "outputs": [
    {
     "name": "stdout",
     "output_type": "stream",
     "text": [
      "              precision    recall  f1-score   support\n",
      "\n",
      "           0       0.84      0.87      0.85      1549\n",
      "           1       0.60      0.53      0.56       561\n",
      "\n",
      "    accuracy                           0.78      2110\n",
      "   macro avg       0.72      0.70      0.71      2110\n",
      "weighted avg       0.77      0.78      0.78      2110\n",
      "\n"
     ]
    }
   ],
   "source": [
    "from sklearn.metrics import classification_report\n",
    "\n",
    "print(classification_report(y_test,prediction))"
   ]
  },
  {
   "cell_type": "code",
   "execution_count": 42,
   "id": "9b09b974",
   "metadata": {},
   "outputs": [
    {
     "data": {
      "text/plain": [
       "Text(50.722222222222214, 0.5, 'Truth')"
      ]
     },
     "execution_count": 42,
     "metadata": {},
     "output_type": "execute_result"
    },
    {
     "data": {
      "image/png": "[encoded data removed]",
      "text/plain": [
       "<Figure size 640x480 with 2 Axes>"
      ]
     },
     "metadata": {},
     "output_type": "display_data"
    }
   ],
   "source": [
    "from sklearn.metrics import confusion_matrix\n",
    "\n",
    "cm=confusion_matrix(y_test,prediction)\n",
    "\n",
    "import seaborn as sns\n",
    "import matplotlib.pyplot as plt\n",
    "\n",
    "sns.heatmap(cm,annot=True,fmt='d')\n",
    "plt.xlabel(\"Predicted\")\n",
    "plt.ylabel(\"Truth\")"
   ]
  },
  {
   "cell_type": "code",
   "execution_count": 43,
   "id": "30117fb2",
   "metadata": {},
   "outputs": [
    {
     "data": {
      "text/plain": [
       "array([[1348,  201],\n",
       "       [ 264,  297]], dtype=int64)"
      ]
     },
     "execution_count": 43,
     "metadata": {},
     "output_type": "execute_result"
    }
   ],
   "source": [
    "cm"
   ]
  },
  {
   "cell_type": "markdown",
   "id": "e543db58",
   "metadata": {},
   "source": [
    "#### Accuracy"
   ]
  },
  {
   "cell_type": "code",
   "execution_count": 44,
   "id": "c0a01527",
   "metadata": {},
   "outputs": [
    {
     "data": {
      "text/plain": [
       "0.79"
      ]
     },
     "execution_count": 44,
     "metadata": {},
     "output_type": "execute_result"
    }
   ],
   "source": [
    "round((1367+302)/(1367+182+259+302),2)"
   ]
  },
  {
   "cell_type": "markdown",
   "id": "f25ec48e",
   "metadata": {},
   "source": [
    "#### Precision(0)"
   ]
  },
  {
   "cell_type": "code",
   "execution_count": 45,
   "id": "83cc6b98",
   "metadata": {},
   "outputs": [
    {
     "data": {
      "text/plain": [
       "0.84"
      ]
     },
     "execution_count": 45,
     "metadata": {},
     "output_type": "execute_result"
    }
   ],
   "source": [
    "round((1367)/(1367+259),2)"
   ]
  },
  {
   "cell_type": "markdown",
   "id": "76aa11ec",
   "metadata": {},
   "source": [
    "#### Precision(1)"
   ]
  },
  {
   "cell_type": "code",
   "execution_count": 46,
   "id": "e904b0f2",
   "metadata": {},
   "outputs": [
    {
     "data": {
      "text/plain": [
       "0.62"
      ]
     },
     "execution_count": 46,
     "metadata": {},
     "output_type": "execute_result"
    }
   ],
   "source": [
    "round((302)/(302+182),2)"
   ]
  },
  {
   "cell_type": "markdown",
   "id": "9addb773",
   "metadata": {},
   "source": [
    "#### recall(0)"
   ]
  },
  {
   "cell_type": "code",
   "execution_count": 47,
   "id": "19e6796e",
   "metadata": {},
   "outputs": [
    {
     "data": {
      "text/plain": [
       "0.88"
      ]
     },
     "execution_count": 47,
     "metadata": {},
     "output_type": "execute_result"
    }
   ],
   "source": [
    "round((1367)/(1367+182),2)"
   ]
  },
  {
   "cell_type": "markdown",
   "id": "dd353667",
   "metadata": {},
   "source": [
    "#### recall(1)"
   ]
  },
  {
   "cell_type": "code",
   "execution_count": 48,
   "id": "ff05f5ed",
   "metadata": {},
   "outputs": [
    {
     "data": {
      "text/plain": [
       "0.54"
      ]
     },
     "execution_count": 48,
     "metadata": {},
     "output_type": "execute_result"
    }
   ],
   "source": [
    "round((302)/(259+302),2)"
   ]
  },
  {
   "cell_type": "code",
   "execution_count": null,
   "id": "4174da40",
   "metadata": {},
   "outputs": [],
   "source": []
  }
 ],
 "metadata": {
  "kernelspec": {
   "display_name": "Python 3 (ipykernel)",
   "language": "python",
   "name": "python3"
  },
  "language_info": {
   "codemirror_mode": {
    "name": "ipython",
    "version": 3
   },
   "file_extension": ".py",
   "mimetype": "text/x-python",
   "name": "python",
   "nbconvert_exporter": "python",
   "pygments_lexer": "ipython3",
   "version": "3.11.3"
  }
 },
 "nbformat": 4,
 "nbformat_minor": 5
}
